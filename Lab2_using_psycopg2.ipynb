{
 "cells": [
  {
   "cell_type": "code",
   "execution_count": 1,
   "id": "9440bdab",
   "metadata": {},
   "outputs": [
    {
     "name": "stdout",
     "output_type": "stream",
     "text": [
      "Requirement already satisfied: psycopg2-binary in /Users/kitasugakento/anaconda3/lib/python3.11/site-packages (2.9.9)\n",
      "Note: you may need to restart the kernel to use updated packages.\n"
     ]
    }
   ],
   "source": [
    "pip install psycopg2-binary"
   ]
  },
  {
   "cell_type": "code",
   "execution_count": 2,
   "id": "2b19d66a",
   "metadata": {},
   "outputs": [],
   "source": [
    "import psycopg2"
   ]
  },
  {
   "cell_type": "code",
   "execution_count": 3,
   "id": "2984bccd",
   "metadata": {},
   "outputs": [],
   "source": [
    "# Connect to your postgres DB\n",
    "conn = psycopg2.connect(\n",
    "    dbname=\"testdb\",\n",
    "    user=\"postgres\",\n",
    "    password=\"asia19980706\",\n",
    "    host=\"localhost\",\n",
    "    port=\"5432\"\n",
    ")\n",
    "\n",
    "# Open a cursor to perform database operations\n",
    "cur = conn.cursor()"
   ]
  },
  {
   "cell_type": "code",
   "execution_count": null,
   "id": "f6a126d2",
   "metadata": {},
   "outputs": [],
   "source": [
    "# Create a new table\n",
    "cur.execute(\"\"\"\n",
    "CREATE TABLE test (\n",
    "    id SERIAL PRIMARY KEY,\n",
    "    num integer,\n",
    "    data varchar\n",
    ")\n",
    "\"\"\")\n",
    "\n",
    "# Commit the changes\n",
    "conn.commit()"
   ]
  },
  {
   "cell_type": "code",
   "execution_count": null,
   "id": "14f65da1",
   "metadata": {},
   "outputs": [],
   "source": [
    "# Insert data into the table\n",
    "cur.execute(\"INSERT INTO test (num, data) VALUES (%s, %s)\",\n",
    "(100, \"abc'def\"))\n",
    "\n",
    "# Commit the changes\n",
    "conn.commit()"
   ]
  },
  {
   "cell_type": "code",
   "execution_count": null,
   "id": "ed42a613",
   "metadata": {},
   "outputs": [],
   "source": [
    "# Query the database\n",
    "cur.execute(\"SELECT * FROM test;\")\n",
    "rows = cur.fetchall()\n",
    "\n",
    "# Print all rows\n",
    "for row in rows:\n",
    "    print(row)"
   ]
  },
  {
   "cell_type": "code",
   "execution_count": null,
   "id": "a9e9aef5",
   "metadata": {},
   "outputs": [],
   "source": [
    "# Close communication with the database\n",
    "cur.close()\n",
    "conn.close()"
   ]
  },
  {
   "cell_type": "code",
   "execution_count": null,
   "id": "1eb98b8c",
   "metadata": {},
   "outputs": [],
   "source": [
    "# Exercise 1 Create a New Tabel"
   ]
  },
  {
   "cell_type": "code",
   "execution_count": 4,
   "id": "205122e6",
   "metadata": {},
   "outputs": [],
   "source": [
    "conn = psycopg2.connect(\n",
    "    dbname=\"testdb\",\n",
    "    user=\"postgres\",\n",
    "    password=\"asia19980706\",\n",
    "    host=\"localhost\",\n",
    "    port=\"5432\"\n",
    ")\n",
    "cur = conn.cursor()"
   ]
  },
  {
   "cell_type": "code",
   "execution_count": null,
   "id": "b63395bf",
   "metadata": {},
   "outputs": [],
   "source": [
    "cur.execute(\"\"\"\n",
    "CREATE TABLE departments (\n",
    "    id SERIAL PRIMARY KEY,\n",
    "    name text\n",
    ")\n",
    "\"\"\")\n",
    "conn.commit()"
   ]
  },
  {
   "cell_type": "code",
   "execution_count": null,
   "id": "ea0d7bc4",
   "metadata": {},
   "outputs": [],
   "source": [
    "# Exercise 2 Insert Data into the Table"
   ]
  },
  {
   "cell_type": "code",
   "execution_count": null,
   "id": "135da8b5",
   "metadata": {},
   "outputs": [],
   "source": [
    "cur.execute(\"INSERT INTO departments (id, name) VALUES (%s, %s)\", (1, \"accounting\"))\n",
    "cur.execute(\"INSERT INTO departments (id, name) VALUES (%s, %s)\", (2, \"marketing\"))\n",
    "cur.execute(\"INSERT INTO departments (id, name) VALUES (%s, %s)\", (3, \"sales\"))\n",
    "conn.commit()"
   ]
  },
  {
   "cell_type": "code",
   "execution_count": null,
   "id": "39e59ece",
   "metadata": {},
   "outputs": [],
   "source": [
    "# Exercise 3 Query Data from Both Tables"
   ]
  },
  {
   "cell_type": "code",
   "execution_count": 6,
   "id": "12b2ab7e",
   "metadata": {},
   "outputs": [
    {
     "name": "stdout",
     "output_type": "stream",
     "text": [
      "(1, 'Alice', 30, 'HR')\n",
      "(2, 'Bob', 25, 'Engineering')\n",
      "(3, 'Charlie', 35, 'Marketing')\n"
     ]
    }
   ],
   "source": [
    "cur.execute(\"SELECT * FROM employees;\")\n",
    "rows = cur.fetchall()\n",
    "\n",
    "for row in rows:\n",
    "    print(row)"
   ]
  },
  {
   "cell_type": "code",
   "execution_count": 7,
   "id": "9c568143",
   "metadata": {},
   "outputs": [
    {
     "name": "stdout",
     "output_type": "stream",
     "text": [
      "(1, 'accounting')\n",
      "(2, 'marketing')\n",
      "(3, 'sales')\n"
     ]
    }
   ],
   "source": [
    "cur.execute(\"SELECT * FROM departments;\")\n",
    "rows = cur.fetchall()\n",
    "\n",
    "for row in rows:\n",
    "    print(row)"
   ]
  },
  {
   "cell_type": "code",
   "execution_count": null,
   "id": "b03040f0",
   "metadata": {},
   "outputs": [],
   "source": [
    "# Exercise 4 Update Data"
   ]
  },
  {
   "cell_type": "code",
   "execution_count": 9,
   "id": "48ac5384",
   "metadata": {},
   "outputs": [],
   "source": [
    "cur.execute(\"UPDATE employees SET age = 29 WHERE id = 1\")\n",
    "conn.commit()"
   ]
  },
  {
   "cell_type": "code",
   "execution_count": null,
   "id": "76c2a8b7",
   "metadata": {},
   "outputs": [],
   "source": [
    "# Exercise 5 Delete Date"
   ]
  },
  {
   "cell_type": "code",
   "execution_count": 10,
   "id": "79c1e726",
   "metadata": {},
   "outputs": [],
   "source": [
    "cur.execute(\"DELETE FROM employees WHERE name = 'Bob'\")\n",
    "conn.commit()"
   ]
  }
 ],
 "metadata": {
  "kernelspec": {
   "display_name": "Python 3 (ipykernel)",
   "language": "python",
   "name": "python3"
  },
  "language_info": {
   "codemirror_mode": {
    "name": "ipython",
    "version": 3
   },
   "file_extension": ".py",
   "mimetype": "text/x-python",
   "name": "python",
   "nbconvert_exporter": "python",
   "pygments_lexer": "ipython3",
   "version": "3.11.5"
  }
 },
 "nbformat": 4,
 "nbformat_minor": 5
}
