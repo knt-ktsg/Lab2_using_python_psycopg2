{
 "cells": [
  {
   "cell_type": "markdown",
   "id": "37ec6c2d",
   "metadata": {},
   "source": [
    "# Lab 2: Using Python psycopg2, JupyterLab, and pgAdmin"
   ]
  },
  {
   "cell_type": "code",
   "execution_count": 1,
   "id": "9440bdab",
   "metadata": {},
   "outputs": [
    {
     "name": "stdout",
     "output_type": "stream",
     "text": [
      "Requirement already satisfied: psycopg2-binary in /Users/kitasugakento/anaconda3/lib/python3.11/site-packages (2.9.9)\n",
      "Note: you may need to restart the kernel to use updated packages.\n"
     ]
    }
   ],
   "source": [
    "pip install psycopg2-binary"
   ]
  },
  {
   "cell_type": "code",
   "execution_count": 2,
   "id": "2b19d66a",
   "metadata": {},
   "outputs": [],
   "source": [
    "import psycopg2"
   ]
  },
  {
   "cell_type": "code",
   "execution_count": null,
   "id": "2984bccd",
   "metadata": {},
   "outputs": [],
   "source": [
    "# Connect to your postgres DB\n",
    "conn = psycopg2.connect(\n",
    "    dbname=\"testdb\",\n",
    "    user=\"postgres\",\n",
    "    password=\"asia19980706\",\n",
    "    host=\"localhost\",\n",
    "    port=\"5432\"\n",
    ")\n",
    "\n",
    "# Open a cursor to perform database operations\n",
    "cur = conn.cursor()"
   ]
  },
  {
   "cell_type": "code",
   "execution_count": null,
   "id": "f6a126d2",
   "metadata": {},
   "outputs": [],
   "source": [
    "# Create a new table\n",
    "cur.execute(\"\"\"\n",
    "CREATE TABLE test (\n",
    "    id SERIAL PRIMARY KEY,\n",
    "    num integer,\n",
    "    data varchar\n",
    ")\n",
    "\"\"\")\n",
    "\n",
    "# Commit the changes\n",
    "conn.commit()"
   ]
  },
  {
   "cell_type": "code",
   "execution_count": null,
   "id": "14f65da1",
   "metadata": {},
   "outputs": [],
   "source": [
    "# Insert data into the table\n",
    "cur.execute(\"INSERT INTO test (num, data) VALUES (%s, %s)\",\n",
    "(100, \"abc'def\"))\n",
    "\n",
    "# Commit the changes\n",
    "conn.commit()"
   ]
  },
  {
   "cell_type": "code",
   "execution_count": null,
   "id": "ed42a613",
   "metadata": {},
   "outputs": [],
   "source": [
    "# Query the database\n",
    "cur.execute(\"SELECT * FROM test;\")\n",
    "rows = cur.fetchall()\n",
    "\n",
    "# Print all rows\n",
    "for row in rows:\n",
    "    print(row)"
   ]
  },
  {
   "cell_type": "code",
   "execution_count": null,
   "id": "a9e9aef5",
   "metadata": {},
   "outputs": [],
   "source": [
    "# Close communication with the database\n",
    "cur.close()\n",
    "conn.close()"
   ]
  },
  {
   "cell_type": "markdown",
   "id": "9e9db476",
   "metadata": {},
   "source": [
    "### Exercise 1 Create a New Tabel"
   ]
  },
  {
   "cell_type": "code",
   "execution_count": 27,
   "id": "205122e6",
   "metadata": {},
   "outputs": [],
   "source": [
    "conn = psycopg2.connect(\n",
    "        dbname=\"testdb\",\n",
    "        user=\"postgres\",\n",
    "        password=\"asia19980706\",\n",
    "        host=\"localhost\",\n",
    "        port=\"5432\"\n",
    ")\n",
    "cur = conn.cursor()"
   ]
  },
  {
   "cell_type": "code",
   "execution_count": null,
   "id": "b63395bf",
   "metadata": {},
   "outputs": [],
   "source": [
    "cur.execute(\"\"\"\n",
    "CREATE TABLE departments (\n",
    "    id SERIAL PRIMARY KEY,\n",
    "    name text\n",
    ")\n",
    "\"\"\")\n",
    "conn.commit()"
   ]
  },
  {
   "cell_type": "markdown",
   "id": "da2c7212",
   "metadata": {},
   "source": [
    "###  Exercise 2 Insert Data into the Table"
   ]
  },
  {
   "cell_type": "code",
   "execution_count": null,
   "id": "135da8b5",
   "metadata": {},
   "outputs": [],
   "source": [
    "cur.execute(\"INSERT INTO departments (id, name) VALUES (%s, %s)\", (1, \"accounting\"))\n",
    "cur.execute(\"INSERT INTO departments (id, name) VALUES (%s, %s)\", (2, \"marketing\"))\n",
    "cur.execute(\"INSERT INTO departments (id, name) VALUES (%s, %s)\", (3, \"sales\"))\n",
    "conn.commit()"
   ]
  },
  {
   "cell_type": "markdown",
   "id": "2c99a5a9",
   "metadata": {},
   "source": [
    "### Exercise 3 Query Data from Both Tables"
   ]
  },
  {
   "cell_type": "code",
   "execution_count": 18,
   "id": "12b2ab7e",
   "metadata": {},
   "outputs": [
    {
     "name": "stdout",
     "output_type": "stream",
     "text": [
      "(3, 'Charlie', 35, 'Marketing')\n",
      "(2, 'Bob', 25, 'Engineering')\n",
      "(1, 'Alice', 30, 'HR')\n"
     ]
    }
   ],
   "source": [
    "cur.execute(\"SELECT * FROM employees;\")\n",
    "rows = cur.fetchall()\n",
    "\n",
    "for row in rows:\n",
    "    print(row)"
   ]
  },
  {
   "cell_type": "code",
   "execution_count": 19,
   "id": "9c568143",
   "metadata": {},
   "outputs": [
    {
     "name": "stdout",
     "output_type": "stream",
     "text": [
      "(1, 'accounting')\n",
      "(2, 'marketing')\n",
      "(3, 'sales')\n"
     ]
    }
   ],
   "source": [
    "cur.execute(\"SELECT * FROM departments;\")\n",
    "rows = cur.fetchall()\n",
    "\n",
    "for row in rows:\n",
    "    print(row)"
   ]
  },
  {
   "cell_type": "markdown",
   "id": "910dc097",
   "metadata": {},
   "source": [
    "### Exercise 4 Update Data"
   ]
  },
  {
   "cell_type": "code",
   "execution_count": 20,
   "id": "48ac5384",
   "metadata": {},
   "outputs": [],
   "source": [
    "cur.execute(\"UPDATE employees SET age = 22 WHERE id = 1\")\n",
    "conn.commit()"
   ]
  },
  {
   "cell_type": "code",
   "execution_count": 21,
   "id": "8320fed9",
   "metadata": {},
   "outputs": [
    {
     "name": "stdout",
     "output_type": "stream",
     "text": [
      "(3, 'Charlie', 35, 'Marketing')\n",
      "(2, 'Bob', 25, 'Engineering')\n",
      "(1, 'Alice', 22, 'HR')\n"
     ]
    }
   ],
   "source": [
    "cur.execute(\"SELECT * FROM employees;\")\n",
    "deps = cur.fetchall()\n",
    "for dep in deps:\n",
    "    print(dep)"
   ]
  },
  {
   "cell_type": "markdown",
   "id": "b3073305",
   "metadata": {},
   "source": [
    "### Exercise 5 Delete Date"
   ]
  },
  {
   "cell_type": "code",
   "execution_count": 25,
   "id": "79c1e726",
   "metadata": {},
   "outputs": [],
   "source": [
    "cur.execute(\"DELETE FROM employees WHERE name = 'Bob'\")\n",
    "conn.commit()"
   ]
  },
  {
   "cell_type": "code",
   "execution_count": 26,
   "id": "92c89008",
   "metadata": {},
   "outputs": [
    {
     "name": "stdout",
     "output_type": "stream",
     "text": [
      "(3, 'Charlie', 35, 'Marketing')\n",
      "(1, 'Alice', 22, 'HR')\n"
     ]
    }
   ],
   "source": [
    "cur.execute(\"SELECT * FROM employees;\")\n",
    "emps = cur.fetchall()\n",
    "for emp in emps:\n",
    "    print(emp)"
   ]
  }
 ],
 "metadata": {
  "kernelspec": {
   "display_name": "Python 3 (ipykernel)",
   "language": "python",
   "name": "python3"
  },
  "language_info": {
   "codemirror_mode": {
    "name": "ipython",
    "version": 3
   },
   "file_extension": ".py",
   "mimetype": "text/x-python",
   "name": "python",
   "nbconvert_exporter": "python",
   "pygments_lexer": "ipython3",
   "version": "3.11.5"
  }
 },
 "nbformat": 4,
 "nbformat_minor": 5
}
